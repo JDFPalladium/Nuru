{
 "cells": [
  {
   "cell_type": "code",
   "execution_count": 1,
   "id": "1e8a9a80-05a6-4ad5-89df-05b8ae9f3ce6",
   "metadata": {},
   "outputs": [],
   "source": [
    "# Import libraries\n",
    "import os\n",
    "from dotenv import load_dotenv\n",
    "import logging\n",
    "import sys\n",
    "import re\n",
    "import json\n",
    "from datetime import datetime\n",
    "from langdetect import detect, DetectorFactory\n",
    "from deep_translator import GoogleTranslator\n",
    "from lingua import Language, LanguageDetectorBuilder\n",
    "import gradio as gr\n",
    "from openai import OpenAI as OpenAIOG\n",
    "from llama_index.llms.openai import OpenAI\n",
    "from llama_index.core import VectorStoreIndex, StorageContext, load_index_from_storage\n",
    "from deep_translator import GoogleTranslator\n",
    "\n",
    "# Set OpenAI API Key (Ensure this is set in the environment)\n",
    "load_dotenv(\"config.env\")\n",
    "os.environ.get(\"OPENAI_API_KEY\")\n",
    "\n",
    "# Initialize OpenAI clients\n",
    "client = OpenAIOG()\n",
    "\n",
    "# Set seed for language detection consistency\n",
    "DetectorFactory.seed = 0\n",
    "\n",
    "# Load index for retrieval\n",
    "storage_context = StorageContext.from_defaults(persist_dir=\"lamis_lp_metadata\")\n",
    "index = load_index_from_storage(storage_context)\n",
    "retriever = index.as_retriever(similarity_top_k=5)\n",
    "\n",
    "# Define keyword lists\n",
    "acknowledgment_keywords_yo = [\"Ẹ ṣé\", \"Ẹ ṣé gan\", \"Ẹ ṣéun\", \"Ọ ṣeun\", \"Ọ dára\", \"Ọ tọ́\", \"Mo ti gbọ́\",\n",
    "                              \"Ẹ ṣeun fún ifọ̀rọ̀wánilẹ́nuwò\", \"Ó yé mi\", \"Kò burú\"]\n",
    "acknowledgment_keywords_en = [\"thanks\", \"thank you\", \"thx\", \"ok\", \"okay\", \"great\", \"got it\", \"appreciate\", \"good\", \"makes sense\"]\n",
    "follow_up_keywords = [\"Ṣùgbọ́n\", \"Pẹ̀lú\", \"Tun\", \"Ati\", \"Kí ni\", \"Báwo\", \"Kí ló dé\", \"Èéṣé\", \"Nigbà wo\", \"Ni\", \"?\",\n",
    "                     \"but\", \"also\", \"and\", \"what\", \"how\", \"why\", \"when\", \"is\"]\n",
    "greeting_keywords_yo = [\"Báwo ni\", \"Ẹ káàárọ̀\", \"Ẹ káàsán\", \"Ẹ kúùrọ̀lẹ́\", \"Ẹ káàbọ̀\", \"Ẹ kúulé\", \"Ẹ kuùjọ̀kòó\"]\n",
    "greeting_keywords_en = [\"hi\", \"hello\", \"hey\", \"how's it\", \"what's up\", \"yo\", \"howdy\"]"
   ]
  },
  {
   "cell_type": "code",
   "execution_count": 63,
   "id": "061b3040-2ea2-494f-9ae5-9b8d80788c5f",
   "metadata": {},
   "outputs": [],
   "source": [
    "# Define helper functions\n",
    "\n",
    "def contains_exact_word_or_phrase(text, keywords):\n",
    "    \"\"\"Check if the given text contains any exact keyword from the list.\"\"\"\n",
    "    text = text.lower()\n",
    "    return any(re.search(r'\\b' + re.escape(keyword) + r'\\b', text) for keyword in keywords)\n",
    "\n",
    "def contains_greeting_yo(text):\n",
    "    return contains_exact_word_or_phrase(text, greeting_keywords_yo)\n",
    "\n",
    "def contains_greeting_en(text):\n",
    "    return contains_exact_word_or_phrase(text, greeting_keywords_en)\n",
    "\n",
    "def contains_acknowledgment_yo(text):\n",
    "    return contains_exact_word_or_phrase(text, acknowledgment_keywords_yo)\n",
    "\n",
    "def contains_acknowledgment_en(text):\n",
    "    return contains_exact_word_or_phrase(text, acknowledgment_keywords_en)\n",
    "\n",
    "def contains_follow_up(text):\n",
    "    return contains_exact_word_or_phrase(text, follow_up_keywords)\n",
    "\n",
    "def detect_language(text):\n",
    "    \"\"\"Detect language of a given text using Lingua, restricted to Yoruba and English.\"\"\"\n",
    "    languages = [Language.ENGLISH, Language.YORUBA]\n",
    "    detector = LanguageDetectorBuilder.from_languages(*languages).build()\n",
    "    detected_language = detector.detect_language_of(text)\n",
    "    print(detected_language)\n",
    "    if detected_language is None:\n",
    "        return \"unknown\"\n",
    "    return \"yo\" if detected_language == Language.YORUBA else \"en\""
   ]
  },
  {
   "cell_type": "code",
   "execution_count": 65,
   "id": "8d33b173-a13b-449a-a125-0ef725dc57ce",
   "metadata": {},
   "outputs": [],
   "source": [
    "# Define Gradio function\n",
    "def idahun(question, conversation_history: list[str]):\n",
    "\n",
    "    \"\"\"Process user query, detect language, handle greetings, acknowledgments, and retrieve relevant information.\"\"\"\n",
    "    context = \" \".join([item[\"user\"] + \" \" + item[\"chatbot\"] for item in conversation_history])\n",
    "\n",
    "    # Process greetings and acknowledgments\n",
    "    for lang, contains_greeting, contains_acknowledgment in [(\"en\", contains_greeting_en, contains_acknowledgment_en), (\"yo\", contains_greeting_yo, contains_acknowledgment_yo)]:\n",
    "        if contains_greeting(question) and not contains_follow_up(question):\n",
    "            prompt = f\"The user said: {question}. Respond accordingly in {lang}.\"\n",
    "        elif contains_acknowledgment(question) and not contains_follow_up(question):\n",
    "            prompt = f\"The user acknowledged: {question}. Respond accordingly in {lang}.\"\n",
    "        else:\n",
    "            continue\n",
    "        completion = client.chat.completions.create(\n",
    "            model=\"gpt-4o\",\n",
    "            messages=[{\"role\": \"user\", \"content\": prompt}]\n",
    "        )\n",
    "        reply_to_user = completion.choices[0].message.content\n",
    "        conversation_history.append({\"user\": question, \"chatbot\": reply_to_user})\n",
    "        Source1 = \"\"\n",
    "        Source2 = \"\"\n",
    "        Source3 = \"\"\n",
    "        return reply_to_user, Source1, Source2, Source3, conversation_history\n",
    "\n",
    "    # Detect language and translate if needed\n",
    "    lang_question = detect_language(question)\n",
    "    if lang_question == \"yo\":\n",
    "        question = GoogleTranslator(source='yo', target='en').translate(question)\n",
    "    \n",
    "    # Retrieve relevant sources\n",
    "    sources = retriever.retrieve(question)\n",
    "    retrieved_text = \"\\n\\n\".join([f\"Source {i+1}: {source.text}\" for i, source in enumerate(sources[:3])])\n",
    "\n",
    "    Source1 = (\"File Name: \" +\n",
    "               sources[0].metadata[\"source\"] +\n",
    "               \"\\nPage Number: \" +\n",
    "               sources[0].metadata[\"page_label\"] +\n",
    "               \"\\n Source Test: \" +\n",
    "               sources[0].text)\n",
    "\n",
    "    Source2 = (\"File Name: \" +\n",
    "           sources[1].metadata[\"source\"] +\n",
    "           \"\\nPage Number: \" +\n",
    "           sources[1].metadata[\"page_label\"] +\n",
    "           \"\\n Source Test: \" +\n",
    "           sources[1].text)\n",
    "\n",
    "    Source3 = (\"File Name: \" +\n",
    "           sources[2].metadata[\"source\"] +\n",
    "           \"\\nPage Number: \" +\n",
    "           sources[2].metadata[\"page_label\"] +\n",
    "           \"\\n Source Test: \" +\n",
    "           sources[2].text)\n",
    "\n",
    "    # Combine into new user question - conversation history, new question, retrieved sources\n",
    "    question_final = (\n",
    "        f\"The user asked the following question: \\\"{question}\\\"\\n\\n\"\n",
    "        f\"Use only the content below to answer the question:\\n\\n{retrieved_text}\\n\\n\"\n",
    "        \"Guidelines:\\n\"\n",
    "        \"- Only answer the question that was asked.\\n\"\n",
    "        \"- Do not change the subject or include unrelated information.\\n\"\n",
    "        \"- Only discuss topics related to HIV and associated infections. If the question is not relevant, say that you can only answer relevant questions.\\n\"\n",
    "    )\n",
    "\n",
    "    # Set LLM instructions. If user consented, add user parameters, otherwise proceed without\n",
    "    system_prompt = (\n",
    "        \"You are a helpful assistant who only answers questions about Nigeria's HIV guidelines and about using the LAMIS Plus EMR.\\n\"\n",
    "        \"- Do not answer questions about other topics.\\n\"\n",
    "        \"- If a question is unrelated to HIV or LAMIS Plus, politely respond that you can only answer HIV- or LAMIS Plus-related questions.\\n\\n\"\n",
    "    )\n",
    " \n",
    "    # Start with context\n",
    "    messages = [{\"role\": \"system\", \"content\": system_prompt}]\n",
    "\n",
    "    # Add conversation history\n",
    "    for turn in conversation_history:\n",
    "        messages.append({\"role\": \"user\", \"content\": turn[\"user\"]})\n",
    "        messages.append({\"role\": \"assistant\", \"content\": turn[\"chatbot\"]})\n",
    "    \n",
    "    # Finally, add the current question\n",
    "    messages.append({\"role\": \"user\", \"content\": question_final})\n",
    "\n",
    "    # Generate response\n",
    "    completion = client.chat.completions.create(\n",
    "        model=\"gpt-4o\",\n",
    "        messages=messages\n",
    "    )\n",
    "\n",
    "    # Collect response\n",
    "    reply_to_user = completion.choices[0].message.content\n",
    "\n",
    "    # add question and reply to conversation history\n",
    "    conversation_history.append({\"user\": question, \"chatbot\": reply_to_user})  \n",
    "\n",
    "    # If initial question was in yoruba, translate response to yoruba\n",
    "    if lang_question==\"yo\":\n",
    "        reply_to_user = GoogleTranslator(source='auto', target='yo').translate(reply_to_user) \n",
    "\n",
    "    # return system_prompt, conversation_history \n",
    "    # return reply_to_user, conversation_history   \n",
    "    return reply_to_user, Source1, Source2, Source3, conversation_history    \n"
   ]
  },
  {
   "cell_type": "code",
   "execution_count": 67,
   "id": "ce43e01c-e24b-437e-90ed-366021574c14",
   "metadata": {},
   "outputs": [
    {
     "name": "stdout",
     "output_type": "stream",
     "text": [
      "Running on local URL:  http://127.0.0.1:7874\n"
     ]
    },
    {
     "name": "stderr",
     "output_type": "stream",
     "text": [
      "C:\\Users\\jonathan.friedman\\AppData\\Local\\anaconda3\\Lib\\site-packages\\gradio\\analytics.py:106: UserWarning: IMPORTANT: You are using gradio version 4.40.0, however version 4.44.1 is available, please upgrade. \n",
      "--------\n",
      "  warnings.warn(\n"
     ]
    },
    {
     "name": "stdout",
     "output_type": "stream",
     "text": [
      "\n",
      "To create a public link, set `share=True` in `launch()`.\n"
     ]
    },
    {
     "data": {
      "text/html": [
       "<div><iframe src=\"http://127.0.0.1:7874/\" width=\"100%\" height=\"500\" allow=\"autoplay; camera; microphone; clipboard-read; clipboard-write;\" frameborder=\"0\" allowfullscreen></iframe></div>"
      ],
      "text/plain": [
       "<IPython.core.display.HTML object>"
      ]
     },
     "metadata": {},
     "output_type": "display_data"
    },
    {
     "data": {
      "text/plain": []
     },
     "execution_count": 67,
     "metadata": {},
     "output_type": "execute_result"
    }
   ],
   "source": [
    "demo = gr.Interface(\n",
    "    title = \"Idahun Chatbot Demo\",\n",
    "    fn=idahun,\n",
    "    inputs=[\"text\", gr.State(value=[])],\n",
    "    outputs=[\n",
    "        gr.Textbox(label = \"Idahun Response\", type = \"text\"),\n",
    "        gr.Textbox(label = \"Source 1\", max_lines = 10, autoscroll = False, type = \"text\"),\n",
    "        gr.Textbox(label = \"Source 2\", max_lines = 10, autoscroll = False, type = \"text\"),\n",
    "        gr.Textbox(label = \"Source 3\", max_lines = 10, autoscroll = False, type = \"text\"),\n",
    "        gr.State()\n",
    "            ],\n",
    ")\n",
    "\n",
    "demo.launch()"
   ]
  },
  {
   "cell_type": "code",
   "execution_count": 75,
   "id": "91258aa4-a82f-4e59-b38d-f204ba9f80c5",
   "metadata": {},
   "outputs": [
    {
     "name": "stdout",
     "output_type": "stream",
     "text": [
      "Language.YORUBA\n"
     ]
    },
    {
     "data": {
      "text/plain": [
       "'yo'"
      ]
     },
     "execution_count": 75,
     "metadata": {},
     "output_type": "execute_result"
    }
   ],
   "source": [
    "detect_language(\"Ẹ káàsán\")"
   ]
  }
 ],
 "metadata": {
  "kernelspec": {
   "display_name": "Nuru August",
   "language": "python",
   "name": "nuru"
  },
  "language_info": {
   "codemirror_mode": {
    "name": "ipython",
    "version": 3
   },
   "file_extension": ".py",
   "mimetype": "text/x-python",
   "name": "python",
   "nbconvert_exporter": "python",
   "pygments_lexer": "ipython3",
   "version": "3.12.3"
  }
 },
 "nbformat": 4,
 "nbformat_minor": 5
}
